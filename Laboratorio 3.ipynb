{
 "cells": [
  {
   "cell_type": "code",
   "execution_count": 80,
   "id": "painted-concentration",
   "metadata": {},
   "outputs": [
    {
     "name": "stdout",
     "output_type": "stream",
     "text": [
      "Parte #1\n"
     ]
    }
   ],
   "source": [
    "print(\"Parte #1\")"
   ]
  },
  {
   "cell_type": "code",
   "execution_count": 117,
   "id": "rising-chester",
   "metadata": {},
   "outputs": [
    {
     "name": "stdin",
     "output_type": "stream",
     "text": [
      "Escriba la cantidad de segundos a convertir en horas, minutos y segundos:  2743\n"
     ]
    },
    {
     "name": "stdout",
     "output_type": "stream",
     "text": [
      "Horas 0\n",
      "Minutos 45\n",
      "Segundos 43\n"
     ]
    }
   ],
   "source": [
    "#Haga un programa en Python que reciba de parametro un numero de segundos y que despliegue en pantalla, \n",
    "#las horas, minutos y segundos que representan.\n",
    "def func():\n",
    "    numero = input(\"Escriba la cantidad de segundos a convertir en horas, minutos y segundos: \")\n",
    "\n",
    "    try:\n",
    "        numero = int(numero)\n",
    "    except ValueError:\n",
    "        print(\"ATENCIÓN: Debe ingresar un número entero.\")\n",
    "        return\n",
    "\n",
    "\n",
    "    if (numero <0):\n",
    "        print(\"El numero ingresado debe ser mayor a 0\")\n",
    "    else:    \n",
    "        horas_entero = int(numero / 3600) # segundos en una hora\n",
    "\n",
    "        restante_minutos = numero - (horas_entero*3600)\n",
    "\n",
    "        minutos_entero = int(restante_minutos / 60) # segundos en un minuto\n",
    "\n",
    "        restante_segundos = numero - (horas_entero*3600) - (minutos_entero*60)\n",
    "\n",
    "        print(\"Horas\",int(horas_entero))\n",
    "        print(\"Minutos\",int(minutos_entero))\n",
    "        print(\"Segundos\",int(restante_segundos))\n",
    "        \n",
    "func()"
   ]
  },
  {
   "cell_type": "code",
   "execution_count": 77,
   "id": "confirmed-wagon",
   "metadata": {},
   "outputs": [
    {
     "name": "stdin",
     "output_type": "stream",
     "text": [
      "Ingrese un numero entre 1 y 20:  4\n",
      "Ingrese un caracter:  x\n"
     ]
    },
    {
     "name": "stdout",
     "output_type": "stream",
     "text": [
      "\n",
      "x\n",
      "xx\n",
      "xxx\n",
      "xxxx\n",
      "\n",
      "xxxx\n",
      " xxx\n",
      "  xx\n",
      "   x\n",
      "\n",
      "xxxx\n",
      "xxx\n",
      "xx\n",
      "x\n",
      "    \n",
      "   x\n",
      "  xx\n",
      " xxx\n",
      "xxxx\n"
     ]
    }
   ],
   "source": [
    "#Haga una funcion en Python que dado un numero entre 1 y 20.\n",
    "#Y un caracter cualquiera despliegue cuatro patrones triangulares.\n",
    "\n",
    "def func():\n",
    "    numero = input(\"Ingrese un numero entre 1 y 20: \")\n",
    "    caracter = input(\"Ingrese un caracter: \")\n",
    "    \n",
    "    try:\n",
    "        numero = int(numero)\n",
    "    except ValueError:\n",
    "        print(\"ATENCIÓN: Debe ingresar un número entero.\")\n",
    "        return\n",
    "\n",
    "    if (numero <1 or numero > 20):\n",
    "        print(\"El numero ingresado debe ser entre 1 y 20\")\n",
    "    else:    \n",
    "        for i in range(numero+1):\n",
    "            print(caracter*i)\n",
    "        print()\n",
    "        y=numero    \n",
    "        for i in range(numero):\n",
    "            vacios=i\n",
    "            print(' '*vacios+caracter*y)\n",
    "            y = y-1\n",
    "        print()\n",
    "        x=numero    \n",
    "        for i in range(numero):\n",
    "            print(caracter*x)\n",
    "            x = x-1\n",
    "            \n",
    "        for i in range(numero+1):\n",
    "            vacios=numero-i\n",
    "            print(' '*vacios+caracter*i)\n",
    "            \n",
    "func()"
   ]
  },
  {
   "cell_type": "code",
   "execution_count": 113,
   "id": "upset-inspector",
   "metadata": {},
   "outputs": [
    {
     "name": "stdin",
     "output_type": "stream",
     "text": [
      "Ingrese el año de nacimiento en formato YYYY 1987\n",
      "Ingrese el mes de nacimiento en formato MM 10\n",
      "Ingrese el dia de nacimiento en formato DD 14\n"
     ]
    },
    {
     "name": "stdout",
     "output_type": "stream",
     "text": [
      "Años 33\n",
      "Meses 5\n",
      "Dias 1\n"
     ]
    }
   ],
   "source": [
    "#Haga un programa en Python que la fecha de nacimiento de una persona \n",
    "#(puede ingresar por separado cada valor, es decir pedir primero dia, luego mes y luego año), \n",
    "#despliegue la edad de la persona en años, meses y dias. Su resultado puede ser aproximado.\n",
    "\n",
    "def func():\n",
    "    anio = input(\"Ingrese el año de nacimiento en formato YYYY\")\n",
    "    mes = input(\"Ingrese el mes de nacimiento en formato MM\")\n",
    "    dia = input(\"Ingrese el dia de nacimiento en formato DD\")\n",
    "    import datetime\n",
    "    try:\n",
    "        anio = int(anio)\n",
    "        mes = int(mes)\n",
    "        dia = int(dia)\n",
    "        datetime.date(anio, mes, dia)\n",
    "    except ValueError:\n",
    "        print(\"ATENCIÓN: La fecha no posee el formato correcto\")\n",
    "        return\n",
    "\n",
    "    hoy = datetime.date.today()\n",
    "    if ((len(str(anio))<4 or len(str(anio))>4) or (len(str(mes))<1 or len(str(mes))>2) or (len(str(dia))<1 or len(str(dia))>2)):\n",
    "        print(\"La fecha debe ser en formato YYYY MM DD\")\n",
    "    elif (hoy < datetime.date(anio, mes, dia)):\n",
    "        print(\"La fecha de nacimiento no puede ser mayor a hoy\")\n",
    "    else:        \n",
    "        diff = hoy - datetime.date(anio, mes, dia)\n",
    "        diff_dias = int(diff.days)\n",
    "        \n",
    "        anios_entero = int(diff_dias / 365) # dias en un año        \n",
    "        restante_dias = diff_dias - (anios_entero*365)       \n",
    "        \n",
    "        meses_entero = int(restante_dias / 30) # dias en un mes\n",
    "        restante_dias = diff_dias - (anios_entero*365) - (meses_entero*30)\n",
    "\n",
    "        print(\"Años\",int(anios_entero))\n",
    "        print(\"Meses\",int(meses_entero))\n",
    "        print(\"Dias\",int(restante_dias))    \n",
    "func()"
   ]
  },
  {
   "cell_type": "code",
   "execution_count": 150,
   "id": "cardiac-christianity",
   "metadata": {},
   "outputs": [
    {
     "name": "stdout",
     "output_type": "stream",
     "text": [
      "Parte #2\n"
     ]
    }
   ],
   "source": [
    "print(\"Parte #2\")"
   ]
  },
  {
   "cell_type": "code",
   "execution_count": 199,
   "id": "spanish-spouse",
   "metadata": {},
   "outputs": [
    {
     "name": "stdout",
     "output_type": "stream",
     "text": [
      "Tupla:\n",
      "(10, 'xl', 323, 'xasfas', 344)\n",
      "Convertido a:\n",
      "10xl323xasfas344\n"
     ]
    }
   ],
   "source": [
    "#Escriba una funcion en Python que dada una tupla de elementos (numeros o letras) esta se convierta a un string.\n",
    "\n",
    "def func(tupla):    \n",
    "    try:\n",
    "        tuple(tupla)\n",
    "    except ValueError:\n",
    "        print(\"ATENCIÓN: No es una tupla\")\n",
    "        return\n",
    "    \n",
    "    resultado = \"\"\n",
    "    for i in tupla:\n",
    "        resultado = resultado + str(i)\n",
    "        \n",
    "    return resultado\n",
    "    \n",
    "elems = (10,'xl',323,'xasfas',344)\n",
    "\n",
    "print(\"Tupla:\")\n",
    "print(elems)\n",
    "print(\"Convertido a:\")\n",
    "print(func(elems))"
   ]
  },
  {
   "cell_type": "code",
   "execution_count": 200,
   "id": "developed-attachment",
   "metadata": {},
   "outputs": [
    {
     "name": "stdout",
     "output_type": "stream",
     "text": [
      "Tupla:\n",
      "[(), (), ('X',), ('a', 'b'), ('a', 'b', 'c'), 'd']\n",
      "Sin tuplas vacias:\n",
      "[('X',), ('a', 'b'), ('a', 'b', 'c'), 'd']\n"
     ]
    }
   ],
   "source": [
    "#Cree un programa en Python que dada una lista de tuplas, elimine las tuplas que estan vacias.\n",
    "\n",
    "def func(lista):    \n",
    "    try:\n",
    "        list(lista)\n",
    "    except ValueError:\n",
    "        print(\"ATENCIÓN: No es una lista\")\n",
    "        return\n",
    "    \n",
    "    resultado = []\n",
    "    for i in lista:\n",
    "        if (i):\n",
    "            resultado.append(i)            \n",
    "        \n",
    "    return resultado\n",
    "    \n",
    "tuplas = [(), (), ('X',), ('a', 'b'), ('a', 'b', 'c'), ('d')]\n",
    "\n",
    "print(\"Tupla:\")\n",
    "print(tuplas)\n",
    "print(\"Sin tuplas vacias:\")\n",
    "print(func(tuplas))"
   ]
  },
  {
   "cell_type": "code",
   "execution_count": 198,
   "id": "single-pharmaceutical",
   "metadata": {},
   "outputs": [
    {
     "name": "stdout",
     "output_type": "stream",
     "text": [
      "Tupla:\n",
      "((10, 10, 10, 12), (30, 45, 56, 'x'), (81, 80, 39, 32))\n",
      "Promedio de cada tupla:\n",
      "[10.5, 32.75, 58.0]\n"
     ]
    }
   ],
   "source": [
    "#Cree una funcion en Python que dada una tupla de tuplas con numeros, produzca una tupla con el promedio de cada tupla individual.\n",
    "\n",
    "def func(tupla_de_tuplas):\n",
    "    try:\n",
    "        tuple(tupla_de_tuplas)\n",
    "    except ValueError:\n",
    "        print(\"ATENCIÓN: No es una tupla\")\n",
    "        return\n",
    "    \n",
    "    resultado = []\n",
    "    for i in tupla_de_tuplas:\n",
    "        promedio=0\n",
    "        if (i):\n",
    "            suma=0\n",
    "            for j in i:           \n",
    "                if isinstance(j,int):\n",
    "                    suma = suma + j\n",
    "            promedio = suma/len(i)            \n",
    "        resultado.append(promedio)            \n",
    "        \n",
    "    return resultado\n",
    "\n",
    "tuplas = ((10, 10, 10, 12), (30, 45, 56, 'x'), (81, 80, 39, 32))\n",
    "\n",
    "print(\"Tupla:\")\n",
    "print(tuplas)\n",
    "print(\"Promedio de cada tupla:\")\n",
    "print(func(tuplas))"
   ]
  },
  {
   "cell_type": "code",
   "execution_count": null,
   "id": "revised-tournament",
   "metadata": {},
   "outputs": [],
   "source": []
  }
 ],
 "metadata": {
  "kernelspec": {
   "display_name": "Python 3",
   "language": "python",
   "name": "python3"
  },
  "language_info": {
   "codemirror_mode": {
    "name": "ipython",
    "version": 3
   },
   "file_extension": ".py",
   "mimetype": "text/x-python",
   "name": "python",
   "nbconvert_exporter": "python",
   "pygments_lexer": "ipython3",
   "version": "3.8.8"
  }
 },
 "nbformat": 4,
 "nbformat_minor": 5
}
